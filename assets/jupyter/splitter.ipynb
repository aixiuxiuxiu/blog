{
 "cells": [
  {
   "cell_type": "code",
   "execution_count": 196,
   "metadata": {},
   "outputs": [],
   "source": [
    "from langchain.text_splitter import RecursiveCharacterTextSplitter\n",
    "\n",
    "# Create a RecursiveCharacterTextSplitter with chunk size and overlap\n",
    "splitter = RecursiveCharacterTextSplitter(\n",
    "    separators = [\".\", \"?\", \"!\", \",\",  \" \"],  # Prioritize sentence-ending first, then spaces, and individual characters\n",
    "    keep_separator = \"end\",\n",
    "    chunk_size = 100,              # Set a larger chunk size (100 characters)\n",
    "    chunk_overlap = 10,         \n",
    "    \n",
    ")\n",
    "\n",
    "# A longer example text to split\n",
    "text = \"\"\"The quick brown fox jumps over the lazy dog. The sun sets in the west, casting a golden glow across the horizon. \n",
    "Birds chirp in the distance, and a gentle breeze rustles the leaves. \"\"\"\n",
    "\n",
    "# Split the text into chunks\n",
    "chunks = splitter.split_text(text)\n",
    "\n"
   ]
  },
  {
   "cell_type": "code",
   "execution_count": 197,
   "metadata": {},
   "outputs": [
    {
     "name": "stdout",
     "output_type": "stream",
     "text": [
      "Chunk 1: The quick brown fox jumps over the lazy dog.\n",
      "Chunk 2: The sun sets in the west, casting a golden glow across the horizon.\n",
      "Chunk 3: Birds chirp in the distance, and a gentle breeze rustles the leaves.\n"
     ]
    }
   ],
   "source": [
    "# Display the output chunks\n",
    "for i, chunk in enumerate(chunks):\n",
    "    print(f\"Chunk {i+1}: {chunk}\")"
   ]
  }
 ],
 "metadata": {
  "kernelspec": {
   "display_name": "ml",
   "language": "python",
   "name": "python3"
  },
  "language_info": {
   "codemirror_mode": {
    "name": "ipython",
    "version": 3
   },
   "file_extension": ".py",
   "mimetype": "text/x-python",
   "name": "python",
   "nbconvert_exporter": "python",
   "pygments_lexer": "ipython3",
   "version": "3.9.18"
  }
 },
 "nbformat": 4,
 "nbformat_minor": 2
}
