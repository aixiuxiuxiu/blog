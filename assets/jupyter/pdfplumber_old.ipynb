{
 "cells": [
  {
   "cell_type": "code",
   "execution_count": null,
   "metadata": {},
   "outputs": [],
   "source": [
    "import pdfplumber\n",
    "with pdfplumber.open(\"fedlex-data-admin-ch-eli-cc-24-233_245_233-20240101-en-pdf-a-1.pdf\") as pdf:\n",
    "    first_page = pdf.pages[0]\n",
    "    box = first_page.crop((0,249, 419, 345))\n",
    "    print(box.extract_text())"
   ]
  }
 ],
 "metadata": {
  "language_info": {
   "name": "python"
  }
 },
 "nbformat": 4,
 "nbformat_minor": 2
}
